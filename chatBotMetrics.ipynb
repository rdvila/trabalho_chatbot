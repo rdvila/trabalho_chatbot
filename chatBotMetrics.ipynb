{
 "cells": [
  {
   "cell_type": "code",
   "execution_count": 1,
   "id": "insured-reward",
   "metadata": {},
   "outputs": [],
   "source": [
    "import pandas as pd\n",
    "import re\n",
    "import matplotlib.pyplot as plt\n",
    "%matplotlib inline"
   ]
  },
  {
   "cell_type": "code",
   "execution_count": 2,
   "id": "double-manor",
   "metadata": {},
   "outputs": [],
   "source": [
    "df = pd.read_csv(\"downloaded-logs-20210417-093257.csv\")"
   ]
  },
  {
   "cell_type": "code",
   "execution_count": 3,
   "id": "variable-broadcast",
   "metadata": {},
   "outputs": [
    {
     "data": {
      "text/html": [
       "<div>\n",
       "<style scoped>\n",
       "    .dataframe tbody tr th:only-of-type {\n",
       "        vertical-align: middle;\n",
       "    }\n",
       "\n",
       "    .dataframe tbody tr th {\n",
       "        vertical-align: top;\n",
       "    }\n",
       "\n",
       "    .dataframe thead th {\n",
       "        text-align: right;\n",
       "    }\n",
       "</style>\n",
       "<table border=\"1\" class=\"dataframe\">\n",
       "  <thead>\n",
       "    <tr style=\"text-align: right;\">\n",
       "      <th></th>\n",
       "      <th>insertId</th>\n",
       "      <th>labels.protocol</th>\n",
       "      <th>labels.request_id</th>\n",
       "      <th>labels.type</th>\n",
       "      <th>logName</th>\n",
       "      <th>receiveTimestamp</th>\n",
       "      <th>resource.labels.project_id</th>\n",
       "      <th>resource.type</th>\n",
       "      <th>severity</th>\n",
       "      <th>textPayload</th>\n",
       "      <th>timestamp</th>\n",
       "      <th>trace</th>\n",
       "    </tr>\n",
       "  </thead>\n",
       "  <tbody>\n",
       "    <tr>\n",
       "      <th>0</th>\n",
       "      <td>12aiicfg323yea0</td>\n",
       "      <td>V2</td>\n",
       "      <td>e55da12d-5b10-4905-8824-c33f5999ee0a-d74139ee</td>\n",
       "      <td>dialogflow_response</td>\n",
       "      <td>projects/rpg-chatbot-qaol/logs/dialogflow_agent</td>\n",
       "      <td>2021-04-17T12:31:33.213563591Z</td>\n",
       "      <td>rpg-chatbot-qaol</td>\n",
       "      <td>global</td>\n",
       "      <td>INFO</td>\n",
       "      <td>Dialogflow Response : id: \"e55da12d-5b10-4905-...</td>\n",
       "      <td>2021-04-17T12:31:33.202922Z</td>\n",
       "      <td>webdemo-8e9e7087-e736-1ce5-1ac6-44439f6b6fd2</td>\n",
       "    </tr>\n",
       "    <tr>\n",
       "      <th>1</th>\n",
       "      <td>12aiicfg323ye9z</td>\n",
       "      <td>V2</td>\n",
       "      <td>e55da12d-5b10-4905-8824-c33f5999ee0a-d74139ee</td>\n",
       "      <td>dialogflow_request</td>\n",
       "      <td>projects/rpg-chatbot-qaol/logs/dialogflow_agent</td>\n",
       "      <td>2021-04-17T12:31:33.213563591Z</td>\n",
       "      <td>rpg-chatbot-qaol</td>\n",
       "      <td>global</td>\n",
       "      <td>INFO</td>\n",
       "      <td>Dialogflow Request : {\"session\":\"webdemo-8e9e7...</td>\n",
       "      <td>2021-04-17T12:31:33.169Z</td>\n",
       "      <td>webdemo-8e9e7087-e736-1ce5-1ac6-44439f6b6fd2</td>\n",
       "    </tr>\n",
       "    <tr>\n",
       "      <th>2</th>\n",
       "      <td>1s3vmqag3jbmzs2</td>\n",
       "      <td>V2</td>\n",
       "      <td>292f9bb5-16a7-4629-b560-30c78baaa6d5-d74139ee</td>\n",
       "      <td>dialogflow_response</td>\n",
       "      <td>projects/rpg-chatbot-qaol/logs/dialogflow_agent</td>\n",
       "      <td>2021-04-17T12:31:25.030692240Z</td>\n",
       "      <td>rpg-chatbot-qaol</td>\n",
       "      <td>global</td>\n",
       "      <td>INFO</td>\n",
       "      <td>Dialogflow Response : id: \"292f9bb5-16a7-4629-...</td>\n",
       "      <td>2021-04-17T12:31:25.021364Z</td>\n",
       "      <td>webdemo-8e9e7087-e736-1ce5-1ac6-44439f6b6fd2</td>\n",
       "    </tr>\n",
       "    <tr>\n",
       "      <th>3</th>\n",
       "      <td>1s3vmqag3jbmzs0</td>\n",
       "      <td>V2</td>\n",
       "      <td>292f9bb5-16a7-4629-b560-30c78baaa6d5-d74139ee</td>\n",
       "      <td>dialogflow_request</td>\n",
       "      <td>projects/rpg-chatbot-qaol/logs/dialogflow_agent</td>\n",
       "      <td>2021-04-17T12:31:25.030692240Z</td>\n",
       "      <td>rpg-chatbot-qaol</td>\n",
       "      <td>global</td>\n",
       "      <td>INFO</td>\n",
       "      <td>Dialogflow Request : {\"session\":\"webdemo-8e9e7...</td>\n",
       "      <td>2021-04-17T12:31:24.993Z</td>\n",
       "      <td>webdemo-8e9e7087-e736-1ce5-1ac6-44439f6b6fd2</td>\n",
       "    </tr>\n",
       "    <tr>\n",
       "      <th>4</th>\n",
       "      <td>19s6nyug338253t</td>\n",
       "      <td>V2</td>\n",
       "      <td>989afe84-4853-4471-9bef-69acb638a2ca-d74139ee</td>\n",
       "      <td>dialogflow_response</td>\n",
       "      <td>projects/rpg-chatbot-qaol/logs/dialogflow_agent</td>\n",
       "      <td>2021-04-17T12:31:18.105005280Z</td>\n",
       "      <td>rpg-chatbot-qaol</td>\n",
       "      <td>global</td>\n",
       "      <td>INFO</td>\n",
       "      <td>Dialogflow Response : id: \"989afe84-4853-4471-...</td>\n",
       "      <td>2021-04-17T12:31:18.094301Z</td>\n",
       "      <td>webdemo-8e9e7087-e736-1ce5-1ac6-44439f6b6fd2</td>\n",
       "    </tr>\n",
       "  </tbody>\n",
       "</table>\n",
       "</div>"
      ],
      "text/plain": [
       "          insertId labels.protocol  \\\n",
       "0  12aiicfg323yea0              V2   \n",
       "1  12aiicfg323ye9z              V2   \n",
       "2  1s3vmqag3jbmzs2              V2   \n",
       "3  1s3vmqag3jbmzs0              V2   \n",
       "4  19s6nyug338253t              V2   \n",
       "\n",
       "                               labels.request_id          labels.type  \\\n",
       "0  e55da12d-5b10-4905-8824-c33f5999ee0a-d74139ee  dialogflow_response   \n",
       "1  e55da12d-5b10-4905-8824-c33f5999ee0a-d74139ee   dialogflow_request   \n",
       "2  292f9bb5-16a7-4629-b560-30c78baaa6d5-d74139ee  dialogflow_response   \n",
       "3  292f9bb5-16a7-4629-b560-30c78baaa6d5-d74139ee   dialogflow_request   \n",
       "4  989afe84-4853-4471-9bef-69acb638a2ca-d74139ee  dialogflow_response   \n",
       "\n",
       "                                           logName  \\\n",
       "0  projects/rpg-chatbot-qaol/logs/dialogflow_agent   \n",
       "1  projects/rpg-chatbot-qaol/logs/dialogflow_agent   \n",
       "2  projects/rpg-chatbot-qaol/logs/dialogflow_agent   \n",
       "3  projects/rpg-chatbot-qaol/logs/dialogflow_agent   \n",
       "4  projects/rpg-chatbot-qaol/logs/dialogflow_agent   \n",
       "\n",
       "                 receiveTimestamp resource.labels.project_id resource.type  \\\n",
       "0  2021-04-17T12:31:33.213563591Z           rpg-chatbot-qaol        global   \n",
       "1  2021-04-17T12:31:33.213563591Z           rpg-chatbot-qaol        global   \n",
       "2  2021-04-17T12:31:25.030692240Z           rpg-chatbot-qaol        global   \n",
       "3  2021-04-17T12:31:25.030692240Z           rpg-chatbot-qaol        global   \n",
       "4  2021-04-17T12:31:18.105005280Z           rpg-chatbot-qaol        global   \n",
       "\n",
       "  severity                                        textPayload  \\\n",
       "0     INFO  Dialogflow Response : id: \"e55da12d-5b10-4905-...   \n",
       "1     INFO  Dialogflow Request : {\"session\":\"webdemo-8e9e7...   \n",
       "2     INFO  Dialogflow Response : id: \"292f9bb5-16a7-4629-...   \n",
       "3     INFO  Dialogflow Request : {\"session\":\"webdemo-8e9e7...   \n",
       "4     INFO  Dialogflow Response : id: \"989afe84-4853-4471-...   \n",
       "\n",
       "                     timestamp                                         trace  \n",
       "0  2021-04-17T12:31:33.202922Z  webdemo-8e9e7087-e736-1ce5-1ac6-44439f6b6fd2  \n",
       "1     2021-04-17T12:31:33.169Z  webdemo-8e9e7087-e736-1ce5-1ac6-44439f6b6fd2  \n",
       "2  2021-04-17T12:31:25.021364Z  webdemo-8e9e7087-e736-1ce5-1ac6-44439f6b6fd2  \n",
       "3     2021-04-17T12:31:24.993Z  webdemo-8e9e7087-e736-1ce5-1ac6-44439f6b6fd2  \n",
       "4  2021-04-17T12:31:18.094301Z  webdemo-8e9e7087-e736-1ce5-1ac6-44439f6b6fd2  "
      ]
     },
     "execution_count": 3,
     "metadata": {},
     "output_type": "execute_result"
    }
   ],
   "source": [
    "df.head()"
   ]
  },
  {
   "cell_type": "code",
   "execution_count": 4,
   "id": "rational-shame",
   "metadata": {},
   "outputs": [],
   "source": [
    "payloads_response = [ x for x in df[df['textPayload'].str.startswith('Dialogflow Response')]['textPayload']]"
   ]
  },
  {
   "cell_type": "code",
   "execution_count": 5,
   "id": "fifth-bouquet",
   "metadata": {},
   "outputs": [],
   "source": [
    "intents_regex = re.compile('(.*intent_name:\\s\\\")(.*)(\\\".*webhook_used.*)', flags=re.MULTILINE|re.DOTALL)\n",
    "intents = [intents_regex.search(s).groups()[1] for s in payloads_response]"
   ]
  },
  {
   "cell_type": "code",
   "execution_count": 6,
   "id": "destroyed-chocolate",
   "metadata": {},
   "outputs": [],
   "source": [
    "fallback_regex = re.compile('(.*is_fallback_intent:\\s\\\")(.*)(\\\".*fulfillment.*)', flags=re.MULTILINE|re.DOTALL)\n",
    "fallback = [fallback_regex.search(s).groups()[1] for s in payloads_response]"
   ]
  },
  {
   "cell_type": "code",
   "execution_count": 7,
   "id": "unavailable-particular",
   "metadata": {},
   "outputs": [],
   "source": [
    "linguagem_programacao_regex = re.compile('(.*linguagem_programacao\".*\")(.*)(\".*fields.*)', flags=re.MULTILINE|re.DOTALL)\n",
    "linguagem_programacao_groups = [linguagem_programacao_regex.search(s) for s in payloads_response]\n",
    "linguagem_programacao = [x.groups()[1] for x in linguagem_programacao_groups if not x is None]"
   ]
  },
  {
   "cell_type": "code",
   "execution_count": 8,
   "id": "adverse-johnson",
   "metadata": {},
   "outputs": [],
   "source": [
    "banco_de_dados_regex = re.compile('(.*banco_dados\".*\")(.*)(\".*fields.*)', flags=re.MULTILINE|re.DOTALL)\n",
    "banco_de_dados_groups = [banco_de_dados_regex.search(s) for s in payloads_response]\n",
    "banco_de_dados = [x.groups()[1] for x in banco_de_dados_groups if not x is None]"
   ]
  },
  {
   "cell_type": "code",
   "execution_count": 9,
   "id": "sought-missile",
   "metadata": {},
   "outputs": [],
   "source": [
    "provedor_nuvem_regex = re.compile('(.*provedor_nuvem\".*\")(.*)(\".*metadata.*)', flags=re.MULTILINE|re.DOTALL)\n",
    "provedor_nuvem_groups = [provedor_nuvem_regex.search(s) for s in payloads_response]\n",
    "provedor_nuvem = [x.groups()[1] for x in provedor_nuvem_groups if not x is None]"
   ]
  },
  {
   "cell_type": "code",
   "execution_count": 10,
   "id": "ecological-renewal",
   "metadata": {},
   "outputs": [
    {
     "name": "stdout",
     "output_type": "stream",
     "text": [
      "Número de interações 73.\n"
     ]
    }
   ],
   "source": [
    "print(\"Número de interações {}.\".format(len(payloads_response)))"
   ]
  },
  {
   "cell_type": "code",
   "execution_count": 11,
   "id": "chemical-desert",
   "metadata": {},
   "outputs": [
    {
     "data": {
      "text/plain": [
       "(array([ 5.,  6.,  6.,  8.,  8.,  4., 14., 15.,  2.,  5.]),\n",
       " array([ 0.,  1.,  2.,  3.,  4.,  5.,  6.,  7.,  8.,  9., 10.]),\n",
       " <BarContainer object of 10 artists>)"
      ]
     },
     "execution_count": 11,
     "metadata": {},
     "output_type": "execute_result"
    },
    {
     "data": {
      "image/png": "[encoded data removed]",
      "text/plain": [
       "<Figure size 432x288 with 1 Axes>"
      ]
     },
     "metadata": {
      "needs_background": "light"
     },
     "output_type": "display_data"
    }
   ],
   "source": [
    "plt.title(\"Intents mais utilizadas\")\n",
    "plt.hist(intents, orientation=\"horizontal\")"
   ]
  },
  {
   "cell_type": "code",
   "execution_count": 12,
   "id": "polyphonic-papua",
   "metadata": {},
   "outputs": [
    {
     "data": {
      "text/plain": [
       "(array([69.,  0.,  0.,  0.,  0.,  0.,  0.,  0.,  0.,  4.]),\n",
       " array([0. , 0.1, 0.2, 0.3, 0.4, 0.5, 0.6, 0.7, 0.8, 0.9, 1. ]),\n",
       " <BarContainer object of 10 artists>)"
      ]
     },
     "execution_count": 12,
     "metadata": {},
     "output_type": "execute_result"
    },
    {
     "data": {
      "image/png": "[encoded data removed]",
      "text/plain": [
       "<Figure size 432x288 with 1 Axes>"
      ]
     },
     "metadata": {
      "needs_background": "light"
     },
     "output_type": "display_data"
    }
   ],
   "source": [
    "plt.title(\"Uso de fallback\")\n",
    "plt.hist(fallback, orientation=\"horizontal\")"
   ]
  },
  {
   "cell_type": "code",
   "execution_count": 13,
   "id": "australian-appraisal",
   "metadata": {},
   "outputs": [
    {
     "data": {
      "text/plain": [
       "(array([1., 0., 1., 0., 0., 1., 0., 3., 0., 1.]),\n",
       " array([0. , 0.4, 0.8, 1.2, 1.6, 2. , 2.4, 2.8, 3.2, 3.6, 4. ]),\n",
       " <BarContainer object of 10 artists>)"
      ]
     },
     "execution_count": 13,
     "metadata": {},
     "output_type": "execute_result"
    },
    {
     "data": {
      "image/png": "[encoded data removed]",
      "text/plain": [
       "<Figure size 432x288 with 1 Axes>"
      ]
     },
     "metadata": {
      "needs_background": "light"
     },
     "output_type": "display_data"
    }
   ],
   "source": [
    "plt.title(\"Linguagens mais utilizadas\")\n",
    "plt.hist(linguagem_programacao, orientation=\"horizontal\")"
   ]
  },
  {
   "cell_type": "code",
   "execution_count": 14,
   "id": "comparable-librarian",
   "metadata": {},
   "outputs": [
    {
     "data": {
      "text/plain": [
       "(array([1., 0., 1., 0., 0., 1., 0., 2., 0., 1.]),\n",
       " array([0. , 0.4, 0.8, 1.2, 1.6, 2. , 2.4, 2.8, 3.2, 3.6, 4. ]),\n",
       " <BarContainer object of 10 artists>)"
      ]
     },
     "execution_count": 14,
     "metadata": {},
     "output_type": "execute_result"
    },
    {
     "data": {
      "image/png": "[encoded data removed]",
      "text/plain": [
       "<Figure size 432x288 with 1 Axes>"
      ]
     },
     "metadata": {
      "needs_background": "light"
     },
     "output_type": "display_data"
    }
   ],
   "source": [
    "plt.title(\"Banco de dados mais utilizados\")\n",
    "plt.hist(banco_de_dados, orientation=\"horizontal\")"
   ]
  },
  {
   "cell_type": "code",
   "execution_count": 15,
   "id": "found-thing",
   "metadata": {},
   "outputs": [
    {
     "data": {
      "text/plain": [
       "(array([1., 0., 0., 1., 0., 0., 2., 0., 0., 1.]),\n",
       " array([0. , 0.3, 0.6, 0.9, 1.2, 1.5, 1.8, 2.1, 2.4, 2.7, 3. ]),\n",
       " <BarContainer object of 10 artists>)"
      ]
     },
     "execution_count": 15,
     "metadata": {},
     "output_type": "execute_result"
    },
    {
     "data": {
      "image/png": "[encoded data removed]",
      "text/plain": [
       "<Figure size 432x288 with 1 Axes>"
      ]
     },
     "metadata": {
      "needs_background": "light"
     },
     "output_type": "display_data"
    }
   ],
   "source": [
    "plt.title(\"Provedores de nuvem mais utilizados\")\n",
    "plt.hist(provedor_nuvem, orientation=\"horizontal\")"
   ]
  },
  {
   "cell_type": "code",
   "execution_count": null,
   "id": "metallic-heart",
   "metadata": {},
   "outputs": [],
   "source": []
  },
  {
   "cell_type": "code",
   "execution_count": null,
   "id": "banned-piano",
   "metadata": {},
   "outputs": [],
   "source": []
  },
  {
   "cell_type": "code",
   "execution_count": null,
   "id": "comic-liberia",
   "metadata": {},
   "outputs": [],
   "source": []
  },
  {
   "cell_type": "code",
   "execution_count": null,
   "id": "checked-plymouth",
   "metadata": {},
   "outputs": [],
   "source": []
  }
 ],
 "metadata": {
  "kernelspec": {
   "display_name": "Python 3",
   "language": "python",
   "name": "python3"
  },
  "language_info": {
   "codemirror_mode": {
    "name": "ipython",
    "version": 3
   },
   "file_extension": ".py",
   "mimetype": "text/x-python",
   "name": "python",
   "nbconvert_exporter": "python",
   "pygments_lexer": "ipython3",
   "version": "3.9.3"
  }
 },
 "nbformat": 4,
 "nbformat_minor": 5
}
